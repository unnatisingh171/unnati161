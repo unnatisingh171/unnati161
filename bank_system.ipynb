{
  "nbformat": 4,
  "nbformat_minor": 0,
  "metadata": {
    "colab": {
      "name": "bank system.ipynb",
      "provenance": [],
      "collapsed_sections": [],
      "authorship_tag": "ABX9TyOpsKjdES3gfbHGOfZ4UmQD",
      "include_colab_link": true
    },
    "kernelspec": {
      "name": "python3",
      "display_name": "Python 3"
    }
  },
  "cells": [
    {
      "cell_type": "markdown",
      "metadata": {
        "id": "view-in-github",
        "colab_type": "text"
      },
      "source": [
        "<a href=\"https://colab.research.google.com/github/unnatisingh171/unnati161/blob/main/bank_system.ipynb\" target=\"_parent\"><img src=\"https://colab.research.google.com/assets/colab-badge.svg\" alt=\"Open In Colab\"/></a>"
      ]
    },
    {
      "cell_type": "code",
      "metadata": {
        "colab": {
          "base_uri": "https://localhost:8080/"
        },
        "id": "mRjPHmGrukXI",
        "outputId": "20ef997a-d3da-4271-ebeb-3e99e6e07c27"
      },
      "source": [
        "#bank system\r\n",
        "import random\r\n",
        "class Bank:\r\n",
        "  def account(self,name,age,gender):\r\n",
        "    print(\"account number\" +str(random.randrange(10000000,25852580)))\r\n",
        "\r\n",
        "  def deposit(self,amount):\r\n",
        "    global balance\r\n",
        "    balance+= amount\r\n",
        "  def withdrawal(self,amount):\r\n",
        "    global balance\r\n",
        "    balance-= amount\r\n",
        "  \r\n",
        "balance= 12345\r\n",
        "while True:\r\n",
        "  if True:  \r\n",
        "    choice=int(input(\"if you want to deposit then 1 and for withdrawal enter 2 and for creating an account enter 3:\"))\r\n",
        "    a=Bank()\r\n",
        "    if choice==1:\r\n",
        "      amount=int(input(\"enter amount to be deposit:\"))\r\n",
        "      a.deposit(amount)\r\n",
        "      print(balance)\r\n",
        "\r\n",
        "    elif choice==2:\r\n",
        "      amount=int(input(\"enter amount to be withdrawal: \"))\r\n",
        "      a.withdrawal(amount)\r\n",
        "      print(balance)\r\n",
        "    else:\r\n",
        "      name=input(\"enter your name\")\r\n",
        "      age=int(input(\"enter your age\"))\r\n",
        "      gender=input(\"enter your gender\" )\r\n",
        "      a.account(name,age,gender)\r\n",
        "    if input(\"you again want deposit,create account or withdrawal then yes or no\")== \"no\":\r\n",
        "      print(\"have a nice day\")\r\n",
        "      break\r\n"
      ],
      "execution_count": 1,
      "outputs": [
        {
          "output_type": "stream",
          "text": [
            "if you want to deposit then 1 and for withdrawal enter 2 and for creating an account enter 3:3\n",
            "enter your namerajat\n",
            "enter your age23\n",
            "enter your gendermale\n",
            "account number17799704\n",
            "you again want deposit,create account or withdrawal then yes or noyes\n",
            "if you want to deposit then 1 and for withdrawal enter 2 and for creating an account enter 3:1\n",
            "enter amount to be deposit:52880\n",
            "65225\n",
            "you again want deposit,create account or withdrawal then yes or noyes\n",
            "if you want to deposit then 1 and for withdrawal enter 2 and for creating an account enter 3:2\n",
            "enter amount to be withdrawal: 5200\n",
            "60025\n",
            "you again want deposit,create account or withdrawal then yes or nono\n",
            "have a nice day\n"
          ],
          "name": "stdout"
        }
      ]
    },
    {
      "cell_type": "code",
      "metadata": {
        "id": "zjqY5DpKvBZJ"
      },
      "source": [
        ""
      ],
      "execution_count": null,
      "outputs": []
    }
  ]
}