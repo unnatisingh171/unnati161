{
  "nbformat": 4,
  "nbformat_minor": 0,
  "metadata": {
    "colab": {
      "name": "Assignment 1.ipynb",
      "provenance": [],
      "include_colab_link": true
    },
    "kernelspec": {
      "name": "python3",
      "display_name": "Python 3"
    }
  },
  "cells": [
    {
      "cell_type": "markdown",
      "metadata": {
        "id": "view-in-github",
        "colab_type": "text"
      },
      "source": [
        "<a href=\"https://colab.research.google.com/github/unnatisingh171/unnati161/blob/main/Assignment_1.ipynb\" target=\"_parent\"><img src=\"https://colab.research.google.com/assets/colab-badge.svg\" alt=\"Open In Colab\"/></a>"
      ]
    },
    {
      "cell_type": "code",
      "metadata": {
        "colab": {
          "base_uri": "https://localhost:8080/"
        },
        "id": "vuqddXOa4XG0",
        "outputId": "0d3ddbd4-7fe8-4e76-c8c3-382e6467c4b6"
      },
      "source": [
        "# To count the occurence of vowels in a sentence\n",
        "Sentence=input(\"Enter a sentence \").lower()\n",
        "Vowel_count={}\n",
        "for vowel in \"aeiou\":\n",
        "    count=Sentence.count(vowel)\n",
        "    if count!=0:\n",
        "      Vowel_count[vowel]=count\n",
        " \n",
        "print(Vowel_count)"
      ],
      "execution_count": null,
      "outputs": [
        {
          "output_type": "stream",
          "text": [
            "Enter a sentence I am a programmer\n",
            "{'a': 3, 'e': 1, 'i': 1, 'o': 1}\n"
          ],
          "name": "stdout"
        }
      ]
    }
  ]
}