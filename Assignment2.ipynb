{
  "nbformat": 4,
  "nbformat_minor": 0,
  "metadata": {
    "colab": {
      "name": "Assignment2.ipynb",
      "provenance": [],
      "collapsed_sections": [],
      "authorship_tag": "ABX9TyPkWOrJTWVOzk4m6Q/HURnp",
      "include_colab_link": true
    },
    "kernelspec": {
      "name": "python3",
      "display_name": "Python 3"
    }
  },
  "cells": [
    {
      "cell_type": "markdown",
      "metadata": {
        "id": "view-in-github",
        "colab_type": "text"
      },
      "source": [
        "<a href=\"https://colab.research.google.com/github/unnatisingh171/unnati161/blob/main/Assignment2.ipynb\" target=\"_parent\"><img src=\"https://colab.research.google.com/assets/colab-badge.svg\" alt=\"Open In Colab\"/></a>"
      ]
    },
    {
      "cell_type": "code",
      "metadata": {
        "colab": {
          "base_uri": "https://localhost:8080/"
        },
        "id": "93ZTfyfhYdUD",
        "outputId": "b42aa236-b7e9-4d91-e585-2e6f64dd8830"
      },
      "source": [
        "print(\"\\n\\n\\n\\n\\n\")\r\n",
        "print(\"HELLO MIT CELL\")\r\n",
        "k=int(input(\"Please enter k value to shift transform message: \"))\r\n",
        "if k<1 and k>20:\r\n",
        "    print(\"enter the number b/w 1-20 only\")\r\n",
        "inp=input(\"Please enter your message : \")\r\n",
        "letter = 0\r\n",
        "ins=\"\"\r\n",
        "\r\n",
        "print(\"You send :\")\r\n",
        "for i in inp:\r\n",
        "    if ord(i)>=97 and ord(i)<=122:                         #if all Lower char\r\n",
        "        if ord(i)==122:                     #code for z\r\n",
        "            letter = chr(90+(k-1))\r\n",
        "        else:\r\n",
        "            letter= chr(ord(i)+k)\r\n",
        "    elif ord(i)>=65 and ord(i)<=90:                       #if all Upper char\r\n",
        "        if ord(i)==90:                      #code for Z\r\n",
        "            letter = chr(65+(k-1))\r\n",
        "        else:\r\n",
        "            letter= chr(ord(i)+k)\r\n",
        "    elif i.isalnum():                       #if all num\r\n",
        "        if int(i)>=0 and int(i)<9:\r\n",
        "            letter = int(i)+k\r\n",
        "        else:\r\n",
        "            letter = 0+(k-1)\r\n",
        "    elif i==\" \":\r\n",
        "        letter = \"@\"                        #for space\r\n",
        "    elif i==\".\":\r\n",
        "        letter = \"#\"                        #for .\r\n",
        "    else:\r\n",
        "        letter = i                          #for rest of symbols\r\n",
        "    print(letter, end=\"\")\r\n",
        "    \r\n",
        "    ins+=str(letter)                        #store the trasformed msg\r\n",
        "print(\"\\nvalue of k is :\",k)\r\n",
        "\r\n",
        "print()\r\n",
        "print()\r\n",
        "print()\r\n",
        "\r\n",
        "\r\n",
        "print(\"HELLO INSTRUCTOR:\")\r\n",
        "print(f\"YOU GOT A MESSAGE {ins}\")\r\n",
        "p=int(input(\"To read this in original please type k value provided by Cell: \"))\r\n",
        "print(\"ORIGIGNAL MESSAGE\")\r\n",
        "for i in ins:\r\n",
        "    if ord(i)>=97 and ord(i)<=122:                         #if all Lower char\r\n",
        "        if ord(i)==97:                     #code for z\r\n",
        "            letter1 = chr(122-(p-1))\r\n",
        "        else:\r\n",
        "            letter1= chr(ord(i)-p)\r\n",
        "    elif ord(i)>=65 and ord(i)<=90:                       #if all Upper char\r\n",
        "        if ord(i)==65:                      #code for Z\r\n",
        "            letter1 = chr(65-(p-1))\r\n",
        "        else:\r\n",
        "            letter1= chr(ord(i)-p)\r\n",
        "    elif i.isalnum():                       #if all num\r\n",
        "        if int(i)>=1 and int(i)<=9:\r\n",
        "            letter1 = int(i)-p\r\n",
        "        else:\r\n",
        "            letter1 = 9-(p-1)\r\n",
        "    elif i==\"@\":\r\n",
        "        letter1 = \" \"                        #for space\r\n",
        "    elif i==\"#\":\r\n",
        "        letter1 = \".\"                        #for .\r\n",
        "    else:\r\n",
        "        letter1 = i                          #for rest of symbols\r\n",
        "    print(letter1, end=\"\")"
      ],
      "execution_count": null,
      "outputs": [
        {
          "output_type": "stream",
          "text": [
            "\n",
            "\n",
            "\n",
            "\n",
            "\n",
            "\n",
            "HELLO MIT CELL\n",
            "Please enter k value to shift transform message: 2\n",
            "Please enter your message : unnati 01\n",
            "You send :\n",
            "wppcvk@23\n",
            "value of k is : 2\n",
            "\n",
            "\n",
            "\n",
            "HELLO INSTRUCTOR:\n",
            "YOU GOT A MESSAGE wppcvk@23\n",
            "To read this in original please type k value provided by Cell: 2\n",
            "ORIGIGNAL MESSAGE\n",
            "unnati 01"
          ],
          "name": "stdout"
        }
      ]
    },
    {
      "cell_type": "code",
      "metadata": {
        "id": "4doGytRua1tB"
      },
      "source": [
        ""
      ],
      "execution_count": null,
      "outputs": []
    }
  ]
}